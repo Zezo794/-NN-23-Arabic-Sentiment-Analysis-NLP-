{
 "cells": [
  {
   "cell_type": "code",
   "execution_count": 1,
   "id": "35dba53a",
   "metadata": {},
   "outputs": [
    {
     "name": "stderr",
     "output_type": "stream",
     "text": [
      "C:\\Users\\Asus\\anaconda3\\lib\\site-packages\\scipy\\__init__.py:155: UserWarning: A NumPy version >=1.18.5 and <1.25.0 is required for this version of SciPy (detected version 1.26.2\n",
      "  warnings.warn(f\"A NumPy version >={np_minversion} and <{np_maxversion}\"\n"
     ]
    },
    {
     "name": "stdout",
     "output_type": "stream",
     "text": [
      "WARNING:tensorflow:From C:\\Users\\Asus\\anaconda3\\lib\\site-packages\\keras\\src\\losses.py:2976: The name tf.losses.sparse_softmax_cross_entropy is deprecated. Please use tf.compat.v1.losses.sparse_softmax_cross_entropy instead.\n",
      "\n"
     ]
    }
   ],
   "source": [
    "import pandas as pd\n",
    "import numpy as np\n",
    "import tensorflow as tf\n",
    "from tensorflow.keras.preprocessing.text import Tokenizer\n",
    "from tensorflow.keras.preprocessing.sequence import pad_sequences\n",
    "from tensorflow.keras.models import Sequential\n",
    "from tensorflow.keras.layers import Dense, LSTM, Conv1D, MaxPooling1D, Embedding, GlobalMaxPooling1D\n",
    "from tensorflow.keras.layers import Bidirectional\n",
    "from sklearn.model_selection import train_test_split\n",
    "from keras.layers import Dropout\n",
    "from collections import Counter\n",
    "from tensorflow.keras.optimizers import Adam\n"
   ]
  },
  {
   "cell_type": "code",
   "execution_count": 2,
   "id": "06d2aefa",
   "metadata": {},
   "outputs": [],
   "source": [
    "# Load your data\n",
    "train_data = pd.read_excel('C:/Users/Asus/Desktop/New folder (4)/train_test33.xlsx')\n",
    "test_data = pd.read_csv('C:/Users/Asus/Desktop/New folder (4)/test_test33.csv')"
   ]
  },
  {
   "cell_type": "code",
   "execution_count": 3,
   "id": "95dabc4b",
   "metadata": {},
   "outputs": [
    {
     "name": "stdout",
     "output_type": "stream",
     "text": [
      "Indices of nulls in test_texts: 5\n",
      "1000\n"
     ]
    }
   ],
   "source": [
    "null_indices_test_texts = test_data[test_data['review_description'].isnull()].index\n",
    "test_data['review_description'].fillna(\"\", inplace=True)\n",
    "print(\"Indices of nulls in test_texts:\", len(null_indices_test_texts))\n",
    "print(len(test_data))"
   ]
  },
  {
   "cell_type": "code",
   "execution_count": 4,
   "id": "c3ee7123",
   "metadata": {},
   "outputs": [],
   "source": [
    "# make target =0 for null rows \n",
    "# train_data['rating'] = np.where(train_data['review_description'].isnull(), 0, train_data['rating'])\n",
    "# train_data['review_description'].fillna(\"\", inplace=True)\n",
    "train_data.dropna(inplace=True) "
   ]
  },
  {
   "cell_type": "code",
   "execution_count": 5,
   "id": "d12e055b",
   "metadata": {},
   "outputs": [],
   "source": [
    "train_texts = train_data['review_description'].tolist()\n",
    "train_labels = train_data['rating']\n",
    "test_texts = test_data['review_description']"
   ]
  },
  {
   "cell_type": "code",
   "execution_count": 6,
   "id": "93be9440",
   "metadata": {},
   "outputs": [
    {
     "name": "stdout",
     "output_type": "stream",
     "text": [
      "Counter({1: 22989, -1: 13929, 0: 1908})\n"
     ]
    }
   ],
   "source": [
    "label_counts = Counter(train_labels)\n",
    "print(label_counts)\n"
   ]
  },
  {
   "cell_type": "code",
   "execution_count": 7,
   "id": "592d913d",
   "metadata": {},
   "outputs": [],
   "source": [
    "# Tokenization and Padding\n",
    "top_words = 25000\n",
    "max_review_length = 40\n",
    "embedding_vector_length = 300\n",
    "num_classes = 3\n",
    "learning_rate = 0.0001"
   ]
  },
  {
   "cell_type": "code",
   "execution_count": 8,
   "id": "873db40f",
   "metadata": {},
   "outputs": [],
   "source": [
    "tokenizer = Tokenizer(num_words=top_words)\n",
    "tokenizer.fit_on_texts(train_texts)"
   ]
  },
  {
   "cell_type": "code",
   "execution_count": 9,
   "id": "df810d33",
   "metadata": {},
   "outputs": [],
   "source": [
    "# # Accessing word indices\n",
    "# word_index = tokenizer.word_index\n",
    "# print(\"Word Index:\")\n",
    "# print(word_index)\n",
    "\n",
    "# # Accessing word counts\n",
    "# word_counts = tokenizer.word_counts\n",
    "# print(\"\\nWord Counts:\")\n",
    "# print(word_counts)\n",
    "\n",
    "# # Accessing document count\n",
    "# document_count = tokenizer.document_count\n",
    "# print(\"\\nDocument Count:\")\n",
    "# print(document_count)\n",
    "\n",
    "# # Accessing the word-documents dictionary\n",
    "# word_docs = tokenizer.word_docs\n",
    "# print(\"\\nWord Documents:\")\n",
    "# print(word_docs)"
   ]
  },
  {
   "cell_type": "code",
   "execution_count": 10,
   "id": "d72eb72d",
   "metadata": {},
   "outputs": [],
   "source": [
    "train_sequences = tokenizer.texts_to_sequences(train_texts)\n",
    "test_sequences = tokenizer.texts_to_sequences(test_texts)\n",
    "\n",
    "# for i, sequence in enumerate(train_sequences):\n",
    "#     if 100 < i < 200:\n",
    "#         print(sequence)\n",
    "#     elif i >= 200:\n",
    "#         break  # Stops printing after the 200th sequence\n",
    "        \n",
    "          \n",
    "\n",
    "# j=0\n",
    "# for i, sequence in enumerate(train_sequences):\n",
    "#     if sequence==[]:\n",
    "#        print(train_data['review_description'].iloc[i]+ '  ' + str(train_labels[i]))\n",
    "#        print(i)\n",
    "#        j+=1\n",
    "# print('number_of_null',j)"
   ]
  },
  {
   "cell_type": "code",
   "execution_count": 11,
   "id": "49365f49",
   "metadata": {},
   "outputs": [
    {
     "name": "stdout",
     "output_type": "stream",
     "text": [
      "اول ضل اتكون الي حكول يتيح لشبكا swvl شكر\n"
     ]
    }
   ],
   "source": [
    "sequence = [67, 4654, 5471, 108, 2462, 2106, 6830, 1829, 26]\n",
    "\n",
    "decoded_sentence = \" \".join(tokenizer.index_word[idx] for idx in sequence if idx in tokenizer.index_word)\n",
    "print(decoded_sentence)"
   ]
  },
  {
   "cell_type": "code",
   "execution_count": 12,
   "id": "41a8732a",
   "metadata": {},
   "outputs": [
    {
     "name": "stdout",
     "output_type": "stream",
     "text": [
      "[    0     0     0     0     0     0     0     0     0     0     0     0\n",
      "     0     0    39    70   265 10573    98   470    94  4088   265  3422\n",
      "  1709  6073  1621    36   317   168   301   373   741  5146  1149   315\n",
      "    27  2203   915   117]\n",
      "[   0    0    0    0    0    0    0    0    0    0    0    0    0    0\n",
      "    0    0    0    0    0    0    0    0    0    0    0    0    0    0\n",
      "    0   10  156  100 1957  513 1411   41  371  172  156 1371]\n"
     ]
    }
   ],
   "source": [
    "train_sequences = pad_sequences(train_sequences, maxlen=max_review_length)\n",
    "test_sequences = pad_sequences(test_sequences, maxlen=max_review_length)\n",
    "#  train_sequences\n",
    "for i, sequence in enumerate(train_sequences):\n",
    "    if i < 2:\n",
    "        print(sequence)\n",
    "    else:\n",
    "        break  \n"
   ]
  },
  {
   "cell_type": "code",
   "execution_count": 13,
   "id": "0f46c9b9",
   "metadata": {},
   "outputs": [
    {
     "data": {
      "text/plain": [
       "array([0, 2, 0, ..., 0, 0, 1], dtype=int8)"
      ]
     },
     "execution_count": 13,
     "metadata": {},
     "output_type": "execute_result"
    }
   ],
   "source": [
    "# Convert labels to categorical format\n",
    "\n",
    "train_labels = train_labels.astype('category').cat.codes.values\n",
    "\n",
    "# Train-test split\n",
    "X_train, X_val, y_train, y_val = train_test_split(train_sequences, train_labels, test_size=0.2, random_state=42, shuffle=True)\n",
    "train_labels"
   ]
  },
  {
   "cell_type": "code",
   "execution_count": 14,
   "id": "01949319",
   "metadata": {},
   "outputs": [
    {
     "name": "stdout",
     "output_type": "stream",
     "text": [
      "WARNING:tensorflow:From C:\\Users\\Asus\\anaconda3\\lib\\site-packages\\keras\\src\\backend.py:873: The name tf.get_default_graph is deprecated. Please use tf.compat.v1.get_default_graph instead.\n",
      "\n",
      "WARNING:tensorflow:From C:\\Users\\Asus\\anaconda3\\lib\\site-packages\\keras\\src\\backend.py:6642: The name tf.nn.max_pool is deprecated. Please use tf.nn.max_pool2d instead.\n",
      "\n",
      "Model: \"sequential\"\n",
      "_________________________________________________________________\n",
      " Layer (type)                Output Shape              Param #   \n",
      "=================================================================\n",
      " embedding (Embedding)       (None, None, 300)         7500000   \n",
      "                                                                 \n",
      " conv1d (Conv1D)             (None, None, 32)          28832     \n",
      "                                                                 \n",
      " max_pooling1d (MaxPooling1  (None, None, 32)          0         \n",
      " D)                                                              \n",
      "                                                                 \n",
      " lstm (LSTM)                 (None, None, 100)         53200     \n",
      "                                                                 \n",
      " global_max_pooling1d (Glob  (None, 100)               0         \n",
      " alMaxPooling1D)                                                 \n",
      "                                                                 \n",
      " dense (Dense)               (None, 3)                 303       \n",
      "                                                                 \n",
      "=================================================================\n",
      "Total params: 7582335 (28.92 MB)\n",
      "Trainable params: 7582335 (28.92 MB)\n",
      "Non-trainable params: 0 (0.00 Byte)\n",
      "_________________________________________________________________\n",
      "None\n"
     ]
    }
   ],
   "source": [
    "# Model\n",
    "model = Sequential()\n",
    "model.add(Embedding(top_words, embedding_vector_length))\n",
    "model.add(Conv1D(filters=32, kernel_size=3, padding='same', activation='relu'))\n",
    "model.add(MaxPooling1D(pool_size=2))\n",
    "model.add(LSTM(100, return_sequences=True))\n",
    "model.add(GlobalMaxPooling1D())\n",
    "model.add(Dense(num_classes, activation='softmax'))\n",
    "\n",
    "\n",
    "# Instantiate the optimizer with the specified learning rate\n",
    "\n",
    "optimizer = Adam(learning_rate=learning_rate)\n",
    "\n",
    "# Compile the model, using the customized optimizer\n",
    "model.compile(loss='sparse_categorical_crossentropy', optimizer=optimizer, metrics=['accuracy'])\n",
    "\n",
    "\n",
    "# Train the model with adjusted hyperparameters\n",
    "\n",
    "print(model.summary())"
   ]
  },
  {
   "cell_type": "code",
   "execution_count": 15,
   "id": "2f352bab",
   "metadata": {},
   "outputs": [
    {
     "name": "stdout",
     "output_type": "stream",
     "text": [
      "Epoch 1/4\n",
      "WARNING:tensorflow:From C:\\Users\\Asus\\anaconda3\\lib\\site-packages\\keras\\src\\utils\\tf_utils.py:492: The name tf.ragged.RaggedTensorValue is deprecated. Please use tf.compat.v1.ragged.RaggedTensorValue instead.\n",
      "\n",
      "WARNING:tensorflow:From C:\\Users\\Asus\\anaconda3\\lib\\site-packages\\keras\\src\\engine\\base_layer_utils.py:384: The name tf.executing_eagerly_outside_functions is deprecated. Please use tf.compat.v1.executing_eagerly_outside_functions instead.\n",
      "\n",
      "486/486 [==============================] - 34s 67ms/step - loss: 0.7589 - accuracy: 0.6648 - val_loss: 0.5343 - val_accuracy: 0.8187\n",
      "Epoch 2/4\n",
      "486/486 [==============================] - 32s 66ms/step - loss: 0.4744 - accuracy: 0.8381 - val_loss: 0.4525 - val_accuracy: 0.8441\n",
      "Epoch 3/4\n",
      "486/486 [==============================] - 32s 66ms/step - loss: 0.4067 - accuracy: 0.8653 - val_loss: 0.4405 - val_accuracy: 0.8493\n",
      "Epoch 4/4\n",
      "486/486 [==============================] - 32s 66ms/step - loss: 0.3642 - accuracy: 0.8813 - val_loss: 0.4449 - val_accuracy: 0.8465\n",
      "32/32 [==============================] - 0s 3ms/step\n"
     ]
    },
    {
     "data": {
      "text/plain": [
       "array([2, 2, 0, 2, 0, 2, 0, 0, 2, 0, 2, 2, 2, 2, 2, 2, 0, 0, 2, 0, 2, 2,\n",
       "       0, 2, 0, 0, 2, 2, 2, 0, 2, 0, 0, 0, 0, 2, 2, 2, 2, 2, 2, 2, 2, 2,\n",
       "       2, 0, 2, 0, 2, 2, 2, 2, 0, 0, 0, 0, 0, 0, 0, 0, 2, 2, 0, 0, 2, 2,\n",
       "       0, 2, 0, 0, 0, 2, 2, 0, 0, 0, 2, 0, 2, 2, 2, 2, 2, 2, 2, 2, 2, 2,\n",
       "       2, 2, 2, 2, 2, 0, 0, 2, 0, 0, 2, 2, 2, 0, 2, 0, 2, 2, 0, 0, 2, 2,\n",
       "       2, 2, 2, 2, 2, 0, 2, 2, 2, 0, 2, 2, 2, 2, 2, 2, 2, 0, 2, 2, 0, 0,\n",
       "       2, 2, 2, 0, 0, 2, 2, 2, 2, 0, 2, 0, 2, 0, 0, 2, 2, 2, 2, 2, 2, 0,\n",
       "       0, 0, 2, 0, 2, 2, 2, 2, 2, 2, 0, 0, 2, 2, 2, 2, 2, 0, 2, 2, 2, 2,\n",
       "       2, 0, 2, 0, 2, 2, 2, 2, 2, 2, 2, 2, 2, 2, 2, 0, 2, 2, 0, 2, 0, 0,\n",
       "       2, 2, 2, 2, 2, 0, 0, 2, 2, 0, 2, 0, 0, 2, 2, 2, 0, 2, 2, 0, 2, 2,\n",
       "       2, 0, 2, 2, 0, 0, 0, 0, 2, 2, 2, 2, 2, 2, 2, 2, 0, 2, 2, 0, 0, 2,\n",
       "       2, 2, 0, 2, 2, 2, 2, 2, 2, 0, 2, 0, 0, 2, 0, 2, 2, 2, 2, 2, 2, 2,\n",
       "       2, 2, 0, 0, 0, 2, 0, 2, 2, 0, 0, 0, 0, 2, 2, 2, 2, 2, 2, 0, 0, 2,\n",
       "       2, 2, 2, 0, 2, 2, 2, 2, 2, 2, 2, 2, 2, 0, 0, 2, 2, 2, 2, 2, 2, 2,\n",
       "       2, 2, 2, 2, 2, 2, 2, 2, 0, 0, 2, 2, 2, 0, 2, 0, 2, 2, 2, 2, 2, 0,\n",
       "       0, 2, 2, 2, 2, 2, 2, 2, 0, 2, 0, 2, 2, 2, 2, 0, 2, 2, 2, 2, 2, 0,\n",
       "       0, 2, 0, 2, 2, 2, 0, 0, 2, 0, 2, 0, 0, 2, 2, 0, 0, 0, 2, 0, 2, 0,\n",
       "       2, 2, 2, 0, 0, 2, 2, 2, 0, 0, 2, 0, 2, 2, 2, 0, 2, 2, 2, 0, 2, 2,\n",
       "       2, 0, 2, 2, 2, 2, 0, 2, 0, 2, 0, 0, 2, 2, 0, 0, 0, 2, 2, 0, 0, 0,\n",
       "       2, 0, 2, 2, 2, 2, 2, 0, 2, 0, 0, 0, 0, 2, 2, 2, 0, 2, 2, 0, 2, 2,\n",
       "       0, 2, 2, 2, 0, 2, 0, 2, 2, 0, 0, 2, 0, 0, 2, 2, 2, 2, 0, 2, 2, 2,\n",
       "       2, 0, 0, 2, 2, 2, 2, 2, 2, 2, 0, 2, 2, 2, 2, 2, 2, 2, 2, 0, 0, 2,\n",
       "       2, 0, 2, 2, 2, 2, 0, 0, 2, 0, 2, 2, 2, 2, 2, 2, 0, 0, 2, 2, 2, 2,\n",
       "       2, 0, 0, 0, 2, 0, 2, 2, 2, 2, 2, 2, 2, 2, 0, 2, 2, 2, 2, 2, 0, 2,\n",
       "       0, 2, 0, 2, 2, 0, 0, 0, 2, 2, 2, 0, 2, 2, 2, 2, 2, 2, 2, 2, 2, 0,\n",
       "       2, 2, 2, 2, 2, 2, 2, 2, 2, 2, 0, 0, 2, 2, 2, 0, 0, 0, 2, 0, 0, 2,\n",
       "       2, 2, 2, 0, 2, 2, 2, 0, 0, 2, 2, 2, 0, 2, 0, 2, 2, 0, 0, 2, 0, 0,\n",
       "       2, 2, 2, 2, 2, 2, 2, 2, 2, 2, 2, 2, 2, 2, 2, 0, 2, 2, 2, 0, 0, 0,\n",
       "       2, 2, 2, 2, 2, 2, 2, 2, 0, 2, 0, 2, 0, 2, 2, 2, 2, 2, 2, 2, 2, 2,\n",
       "       2, 2, 0, 2, 2, 2, 2, 2, 2, 2, 2, 2, 2, 0, 2, 2, 2, 0, 0, 2, 2, 2,\n",
       "       0, 2, 0, 2, 2, 0, 0, 0, 2, 2, 2, 0, 2, 2, 0, 2, 2, 0, 2, 0, 0, 2,\n",
       "       0, 2, 2, 2, 0, 2, 2, 2, 2, 2, 2, 0, 2, 0, 2, 2, 0, 2, 0, 2, 2, 2,\n",
       "       2, 0, 2, 2, 0, 2, 2, 2, 2, 2, 0, 0, 2, 2, 2, 0, 2, 2, 2, 0, 0, 0,\n",
       "       2, 0, 2, 0, 2, 2, 0, 0, 2, 2, 2, 0, 2, 2, 0, 0, 2, 2, 2, 2, 0, 0,\n",
       "       2, 0, 2, 0, 0, 2, 0, 0, 0, 2, 2, 0, 2, 2, 2, 2, 0, 0, 0, 0, 2, 0,\n",
       "       2, 2, 2, 2, 0, 2, 0, 2, 0, 2, 2, 2, 2, 2, 0, 2, 2, 2, 2, 2, 0, 0,\n",
       "       2, 0, 2, 2, 0, 0, 0, 2, 2, 2, 2, 2, 2, 2, 2, 2, 2, 2, 2, 2, 0, 2,\n",
       "       0, 2, 0, 2, 2, 2, 0, 2, 0, 2, 2, 2, 0, 2, 2, 0, 2, 0, 2, 0, 0, 0,\n",
       "       2, 2, 2, 0, 2, 2, 2, 2, 2, 0, 2, 0, 0, 2, 2, 2, 0, 0, 0, 2, 2, 2,\n",
       "       2, 0, 0, 2, 0, 0, 2, 2, 2, 2, 2, 2, 2, 2, 0, 0, 2, 2, 0, 0, 2, 2,\n",
       "       2, 2, 0, 2, 2, 2, 2, 0, 2, 2, 2, 2, 2, 0, 2, 2, 2, 2, 2, 2, 2, 0,\n",
       "       2, 2, 2, 2, 0, 2, 2, 0, 2, 0, 2, 2, 2, 2, 0, 2, 2, 0, 2, 2, 2, 2,\n",
       "       0, 2, 2, 0, 0, 2, 0, 2, 0, 2, 2, 0, 0, 2, 2, 2, 2, 2, 0, 0, 2, 2,\n",
       "       2, 2, 2, 2, 2, 2, 0, 0, 2, 0, 0, 0, 0, 2, 2, 0, 0, 2, 0, 2, 2, 0,\n",
       "       2, 0, 2, 2, 2, 2, 2, 0, 2, 2, 0, 2, 2, 2, 2, 0, 2, 0, 2, 0, 2, 0,\n",
       "       2, 2, 0, 2, 2, 2, 0, 2, 0, 0], dtype=int64)"
      ]
     },
     "execution_count": 15,
     "metadata": {},
     "output_type": "execute_result"
    }
   ],
   "source": [
    "\n",
    "# Training\n",
    "model.fit(X_train, y_train, epochs=4, batch_size=64, validation_data=(X_val, y_val))\n",
    "# Prediction on test data\n",
    "predictions = model.predict(test_sequences)\n",
    "predicted_labels = np.argmax(predictions, axis=1)\n",
    "predicted_labels\n"
   ]
  },
  {
   "cell_type": "code",
   "execution_count": 16,
   "id": "42d41a2e",
   "metadata": {},
   "outputs": [],
   "source": [
    "def replace_values(lst):\n",
    "    for i in range(len(lst)):\n",
    "        if lst[i] == 2:\n",
    "            lst[i] = 1\n",
    "        elif lst[i] == 1:\n",
    "            lst[i] = 0\n",
    "        elif lst[i] == 0:\n",
    "            lst[i] = -1\n",
    "    return lst\n"
   ]
  },
  {
   "cell_type": "code",
   "execution_count": 17,
   "id": "9f8f7983",
   "metadata": {},
   "outputs": [],
   "source": [
    "predicted_out2=replace_values(predicted_labels)\n"
   ]
  },
  {
   "cell_type": "code",
   "execution_count": 18,
   "id": "9fa21b07",
   "metadata": {},
   "outputs": [
    {
     "name": "stdout",
     "output_type": "stream",
     "text": [
      "CSV file 'C:/Users/Asus/Desktop/New folder (4)/predicted_ratings3.csv' has been created.\n"
     ]
    }
   ],
   "source": [
    "import csv\n",
    "\n",
    "\n",
    "# File name for the CSV file\n",
    "file_name = 'C:/Users/Asus/Desktop/New folder (4)/predicted_ratings3.csv'\n",
    "\n",
    "# Writing data to a CSV file\n",
    "with open(file_name, 'w', newline='') as csvfile:\n",
    "    writer = csv.writer(csvfile)\n",
    "\n",
    "    # Write header\n",
    "    writer.writerow(['ID', 'rating'])\n",
    "\n",
    "    # Write data rows\n",
    "    for idx, rating in enumerate(predicted_out2, start=1):\n",
    "        writer.writerow([idx, rating])\n",
    "\n",
    "print(f\"CSV file '{file_name}' has been created.\")"
   ]
  },
  {
   "cell_type": "code",
   "execution_count": null,
   "id": "a0fbcb3a",
   "metadata": {},
   "outputs": [],
   "source": []
  }
 ],
 "metadata": {
  "kernelspec": {
   "display_name": "Python 3 (ipykernel)",
   "language": "python",
   "name": "python3"
  },
  "language_info": {
   "codemirror_mode": {
    "name": "ipython",
    "version": 3
   },
   "file_extension": ".py",
   "mimetype": "text/x-python",
   "name": "python",
   "nbconvert_exporter": "python",
   "pygments_lexer": "ipython3",
   "version": "3.9.13"
  }
 },
 "nbformat": 4,
 "nbformat_minor": 5
}
